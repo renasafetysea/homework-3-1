{
 "cells": [
  {
   "cell_type": "markdown",
   "metadata": {},
   "source": [
    "a) Написать программу, которая удаляет из списка все элементы, стоящие на четных позициях."
   ]
  },
  {
   "cell_type": "code",
   "execution_count": 6,
   "metadata": {},
   "outputs": [
    {
     "name": "stdout",
     "output_type": "stream",
     "text": [
      "['mouse', 'monitor', 'camera']\n"
     ]
    }
   ],
   "source": [
    "s = ['mouse', 'keyboard', 'monitor', 'touchpad', 'camera']\n",
    "del s[1::2]\n",
    "print(s)"
   ]
  },
  {
   "cell_type": "markdown",
   "metadata": {},
   "source": [
    "b) Написать программу, которая считывает список слов и находит слова, содержащие более трех гласных букв."
   ]
  },
  {
   "cell_type": "code",
   "execution_count": 5,
   "metadata": {},
   "outputs": [
    {
     "name": "stdout",
     "output_type": "stream",
     "text": [
      "telephone\n",
      "aeoa\n"
     ]
    }
   ],
   "source": [
    "s = ['mouse', 'keyboard', 'monitor', 'touchpad', 'camera', 'telephone', 'aeoa']\n",
    "\n",
    "the_vowel = [\"a\",\"e\",\"i\",\"o\",\"u\"]\n",
    "\n",
    "for i in s:\n",
    "    k = 0;\n",
    "    for j in range(len(i)):\n",
    "        if i[j] in the_vowel: k+=1\n",
    "    if k > 3: print(i)"
   ]
  },
  {
   "cell_type": "markdown",
   "metadata": {},
   "source": [
    "c) Написать программу, которая находит второй по величине элемент в списке."
   ]
  },
  {
   "cell_type": "code",
   "execution_count": 4,
   "metadata": {},
   "outputs": [
    {
     "name": "stdout",
     "output_type": "stream",
     "text": [
      "7\n"
     ]
    }
   ],
   "source": [
    "a = [1, 2, 3, 4, 5, 7, 10, 6, 1]\n",
    "\n",
    "list2 = list(set(a))\n",
    " \n",
    "list2.sort()\n",
    "\n",
    "print(list2[-2])"
   ]
  },
  {
   "cell_type": "markdown",
   "metadata": {},
   "source": [
    "d) Написать программу, которая удаляет из списка все дубликаты."
   ]
  },
  {
   "cell_type": "code",
   "execution_count": 3,
   "metadata": {},
   "outputs": [
    {
     "name": "stdout",
     "output_type": "stream",
     "text": [
      "[1, 2, 3, 4, 5, 6, 7, 10]\n"
     ]
    }
   ],
   "source": [
    "a = [1, 2, 3, 4, 5, 7, 10, 6, 1, 2, 3, 4, 5]\n",
    "\n",
    "a = list(set(a))\n",
    "\n",
    "print(a)"
   ]
  },
  {
   "cell_type": "markdown",
   "metadata": {},
   "source": [
    "e) Написать программу, которая считывает данные из CSV-файла и создает словарь, где ключами являются значения в столбце «Name», а значениями — соответствующие им словари с информацией о поле, возрасте и зарплате."
   ]
  },
  {
   "cell_type": "code",
   "execution_count": 2,
   "metadata": {},
   "outputs": [
    {
     "name": "stdout",
     "output_type": "stream",
     "text": [
      "{'David': {'Gender': 'male', 'Age': 18, 'Salary': 80}, 'Anna': {'Gender': 'Female', 'Age': 30, 'Salary': 1000}, 'Konstantin': {'Gender': 'Male', 'Age': 60, 'Salary': 200}, 'John': {'Gender': 'Male', 'Age': 40, 'Salary': 500}, 'Michael': {'Gender': 'Male', 'Age': 50, 'Salary': 100}}\n",
      "{'David': ['male', 18, 80], 'Anna': ['Female', 30, 1000], 'Konstantin': ['Male', 60, 200], 'John': ['Male', 40, 500], 'Michael': ['Male', 50, 100]}\n"
     ]
    }
   ],
   "source": [
    "import pandas as pd\n",
    "a = pd.read_csv('5.csv', index_col='Name')\n",
    "print(a.to_dict('Index'))\n",
    "\n",
    "# or like this:\n",
    "print(a.T.to_dict('list'))"
   ]
  },
  {
   "cell_type": "markdown",
   "metadata": {},
   "source": [
    "f) Написать программу, которая запрашивает у пользователя строку и выводит на экран все ее подстроки длиной не менее трех символов."
   ]
  },
  {
   "cell_type": "code",
   "execution_count": 1,
   "metadata": {},
   "outputs": [
    {
     "name": "stdout",
     "output_type": "stream",
     "text": [
      "Введите строку: Не суди да не судим будешь\n",
      "суди\n",
      "судим\n",
      "будешь\n"
     ]
    }
   ],
   "source": [
    "b = input('Введите строку: ')\n",
    "b = 'Не суди да не судим будешь'\n",
    "for a in b.split(' '):\n",
    "    if len(a) > 3: print(a)"
   ]
  }
 ],
 "metadata": {
  "kernelspec": {
   "display_name": "Python 3",
   "language": "python",
   "name": "python3"
  },
  "language_info": {
   "codemirror_mode": {
    "name": "ipython",
    "version": 3
   },
   "file_extension": ".py",
   "mimetype": "text/x-python",
   "name": "python",
   "nbconvert_exporter": "python",
   "pygments_lexer": "ipython3",
   "version": "3.11.4"
  },
  "orig_nbformat": 4
 },
 "nbformat": 4,
 "nbformat_minor": 2
}
